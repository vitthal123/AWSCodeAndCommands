{
 "cells": [
  {
   "cell_type": "code",
   "execution_count": 1,
   "id": "c6bb0b8a-69f4-4007-9f16-eef36d9402fb",
   "metadata": {},
   "outputs": [],
   "source": [
    "import boto3\n",
    "import os"
   ]
  },
  {
   "cell_type": "code",
   "execution_count": 2,
   "id": "9385094e-ce36-4dae-8e35-8921d08a88ce",
   "metadata": {},
   "outputs": [
    {
     "data": {
      "text/plain": [
       "'ap-south-1'"
      ]
     },
     "execution_count": 2,
     "metadata": {},
     "output_type": "execute_result"
    }
   ],
   "source": [
    "# Setting the Environment Varible\n",
    "os.environ.setdefault('AWS_PROFILE','demo')\n",
    "os.environ.setdefault('AWS_DEFAULT_REGION','ap-south-1')"
   ]
  },
  {
   "cell_type": "code",
   "execution_count": 3,
   "id": "888bef67-5827-4799-91a7-2ab6d1b4337e",
   "metadata": {},
   "outputs": [],
   "source": [
    "# Connecting to dynamodb\n",
    "dnbdb=boto3.resource('dynamodb')"
   ]
  },
  {
   "cell_type": "code",
   "execution_count": null,
   "id": "db2e2a0f-e307-4361-8ae4-a23adf7adf16",
   "metadata": {},
   "outputs": [],
   "source": [
    "dnbdb.create_table?"
   ]
  },
  {
   "cell_type": "code",
   "execution_count": 8,
   "id": "8eb964fd-8a0d-4803-8be7-6ca08d893d1b",
   "metadata": {},
   "outputs": [],
   "source": [
    "departments=dnbdb.create_table(TableName='departments', \n",
    "                               KeySchema=[ {'AttributeName':'deptid',\n",
    "                               'KeyType':'HASH' },\n",
    "                                         ],\n",
    "                               AttributeDefinitions=[{'AttributeName':'deptid',\n",
    "                                                      'AttributeType':'N'},],BillingMode='PAY_PER_REQUEST')\n",
    "                                "
   ]
  },
  {
   "cell_type": "code",
   "execution_count": 20,
   "id": "5360546b-11a5-4c9e-9bf4-cd1f101c6400",
   "metadata": {},
   "outputs": [
    {
     "data": {
      "text/plain": [
       "'CREATING'"
      ]
     },
     "execution_count": 20,
     "metadata": {},
     "output_type": "execute_result"
    }
   ],
   "source": [
    "departments.table_status"
   ]
  },
  {
   "cell_type": "code",
   "execution_count": 21,
   "id": "365b82be-dcd5-4b85-acf5-698fbe4f8da3",
   "metadata": {},
   "outputs": [],
   "source": [
    "dept1={'deptid':10,'name':'Accounting','location':'Pune','state':'Maharashtra'}\n",
    "    "
   ]
  },
  {
   "cell_type": "code",
   "execution_count": 22,
   "id": "39fe937d-3b61-4e86-aff0-5e086c578708",
   "metadata": {},
   "outputs": [
    {
     "data": {
      "text/plain": [
       "{'ResponseMetadata': {'RequestId': 'VUBMQ4H5FC60H3RL5NFQRQBPTJVV4KQNSO5AEMVJF66Q9ASUAAJG',\n",
       "  'HTTPStatusCode': 200,\n",
       "  'HTTPHeaders': {'server': 'Server',\n",
       "   'date': 'Sat, 22 Mar 2025 12:32:25 GMT',\n",
       "   'content-type': 'application/x-amz-json-1.0',\n",
       "   'content-length': '2',\n",
       "   'connection': 'keep-alive',\n",
       "   'x-amzn-requestid': 'VUBMQ4H5FC60H3RL5NFQRQBPTJVV4KQNSO5AEMVJF66Q9ASUAAJG',\n",
       "   'x-amz-crc32': '2745614147'},\n",
       "  'RetryAttempts': 0}}"
      ]
     },
     "execution_count": 22,
     "metadata": {},
     "output_type": "execute_result"
    }
   ],
   "source": [
    "departments.put_item(Item=dept1)"
   ]
  },
  {
   "cell_type": "code",
   "execution_count": 23,
   "id": "540be0a7-d35a-4de9-b24f-9a77b0df9e25",
   "metadata": {},
   "outputs": [
    {
     "data": {
      "text/plain": [
       "{'ResponseMetadata': {'RequestId': 'VC26SAAHJQQ2OOTGUUAV0A0GAJVV4KQNSO5AEMVJF66Q9ASUAAJG',\n",
       "  'HTTPStatusCode': 200,\n",
       "  'HTTPHeaders': {'server': 'Server',\n",
       "   'date': 'Sat, 22 Mar 2025 12:33:41 GMT',\n",
       "   'content-type': 'application/x-amz-json-1.0',\n",
       "   'content-length': '2',\n",
       "   'connection': 'keep-alive',\n",
       "   'x-amzn-requestid': 'VC26SAAHJQQ2OOTGUUAV0A0GAJVV4KQNSO5AEMVJF66Q9ASUAAJG',\n",
       "   'x-amz-crc32': '2745614147'},\n",
       "  'RetryAttempts': 0}}"
      ]
     },
     "execution_count": 23,
     "metadata": {},
     "output_type": "execute_result"
    }
   ],
   "source": [
    "dept2={'deptid':20,'name':'IT','location':'Mumbai','state':'Maharashtra'}\n",
    "departments.put_item(Item=dept2)"
   ]
  },
  {
   "cell_type": "code",
   "execution_count": null,
   "id": "ef79954e-4e6a-4243-a317-ea4e14cb0a0e",
   "metadata": {},
   "outputs": [],
   "source": [
    "# Getting all the records\n",
    "departments.scan()"
   ]
  },
  {
   "cell_type": "code",
   "execution_count": null,
   "id": "34bbb983-addf-46c5-afb3-160834d9b075",
   "metadata": {},
   "outputs": [],
   "source": [
    "# Getting Specific Item\n",
    "departments.get_item(Key={'deptid':10})"
   ]
  },
  {
   "cell_type": "code",
   "execution_count": 29,
   "id": "2dde1caf-d4dc-4420-996a-24979f1bb6a7",
   "metadata": {},
   "outputs": [
    {
     "data": {
      "text/plain": [
       "'Pune'"
      ]
     },
     "execution_count": 29,
     "metadata": {},
     "output_type": "execute_result"
    }
   ],
   "source": [
    "# Getting Item\n",
    "departments.get_item(Key={'deptid':10})['Item']['location']"
   ]
  },
  {
   "cell_type": "code",
   "execution_count": null,
   "id": "44715bba-69b7-4694-a410-65ec709fbc49",
   "metadata": {},
   "outputs": [],
   "source": [
    "# updating the Values\n",
    "itm=departments.get_item(Key={'deptid':10})['Item']\n",
    "itm['location']='Nasik'\n",
    "departments.put_item(Item=itm)"
   ]
  },
  {
   "cell_type": "code",
   "execution_count": null,
   "id": "6065775c-528a-40dd-9d6e-889309cdb10c",
   "metadata": {},
   "outputs": [],
   "source": [
    "departments.get_item(Key={'deptid':10})['Item']"
   ]
  },
  {
   "cell_type": "code",
   "execution_count": 34,
   "id": "0626d892-8141-4e89-a100-dd2ce71be3e1",
   "metadata": {},
   "outputs": [
    {
     "data": {
      "text/plain": [
       "{'ResponseMetadata': {'RequestId': '75N0VOENI1658CEK9DTQPPG3ARVV4KQNSO5AEMVJF66Q9ASUAAJG',\n",
       "  'HTTPStatusCode': 200,\n",
       "  'HTTPHeaders': {'server': 'Server',\n",
       "   'date': 'Sat, 22 Mar 2025 12:43:43 GMT',\n",
       "   'content-type': 'application/x-amz-json-1.0',\n",
       "   'content-length': '2',\n",
       "   'connection': 'keep-alive',\n",
       "   'x-amzn-requestid': '75N0VOENI1658CEK9DTQPPG3ARVV4KQNSO5AEMVJF66Q9ASUAAJG',\n",
       "   'x-amz-crc32': '2745614147'},\n",
       "  'RetryAttempts': 0}}"
      ]
     },
     "execution_count": 34,
     "metadata": {},
     "output_type": "execute_result"
    }
   ],
   "source": [
    "# Deleting the table\n",
    "departments.delete_item(Key={'deptid':10})"
   ]
  },
  {
   "cell_type": "code",
   "execution_count": 36,
   "id": "17dc3c93-5fb7-4e88-951f-8b0610224f9f",
   "metadata": {},
   "outputs": [
    {
     "ename": "AttributeError",
     "evalue": "'dynamodb.ServiceResource' object has no attribute 'delete_table'",
     "output_type": "error",
     "traceback": [
      "\u001b[0;31m---------------------------------------------------------------------------\u001b[0m",
      "\u001b[0;31mAttributeError\u001b[0m                            Traceback (most recent call last)",
      "Cell \u001b[0;32mIn[36], line 2\u001b[0m\n\u001b[1;32m      1\u001b[0m \u001b[38;5;66;03m# Deleting Table\u001b[39;00m\n\u001b[0;32m----> 2\u001b[0m res\u001b[38;5;241m=\u001b[39m\u001b[43mdnbdb\u001b[49m\u001b[38;5;241;43m.\u001b[39;49m\u001b[43mdelete_table\u001b[49m(TableName\u001b[38;5;241m=\u001b[39m\u001b[38;5;124m'\u001b[39m\u001b[38;5;124memployess\u001b[39m\u001b[38;5;124m'\u001b[39m)\n",
      "\u001b[0;31mAttributeError\u001b[0m: 'dynamodb.ServiceResource' object has no attribute 'delete_table'"
     ]
    }
   ],
   "source": [
    "# Deleting Table\n",
    "res=dnbdb.delete_table(TableName='employess')\n"
   ]
  },
  {
   "cell_type": "code",
   "execution_count": 37,
   "id": "02b6006b-6aeb-48b5-a7f9-57b8b83d0ab9",
   "metadata": {},
   "outputs": [],
   "source": [
    "client=boto3.client('dynamodb')"
   ]
  },
  {
   "cell_type": "code",
   "execution_count": 38,
   "id": "f6b75e24-e310-44ae-9aaa-b63f804132fa",
   "metadata": {},
   "outputs": [
    {
     "data": {
      "text/plain": [
       "{'TableDescription': {'TableName': 'employess',\n",
       "  'TableStatus': 'DELETING',\n",
       "  'ProvisionedThroughput': {'NumberOfDecreasesToday': 0,\n",
       "   'ReadCapacityUnits': 0,\n",
       "   'WriteCapacityUnits': 0},\n",
       "  'TableSizeBytes': 0,\n",
       "  'ItemCount': 0,\n",
       "  'TableArn': 'arn:aws:dynamodb:ap-south-1:897722697497:table/employess',\n",
       "  'TableId': 'd0e330f9-f174-4683-b112-9f2bd4242cf8',\n",
       "  'BillingModeSummary': {'BillingMode': 'PAY_PER_REQUEST',\n",
       "   'LastUpdateToPayPerRequestDateTime': datetime.datetime(2025, 3, 22, 17, 23, 44, 884000, tzinfo=tzlocal())},\n",
       "  'TableClassSummary': {'TableClass': 'STANDARD'},\n",
       "  'DeletionProtectionEnabled': False},\n",
       " 'ResponseMetadata': {'RequestId': 'NI1RPUF8U5EN63S7AD7FF6LAPRVV4KQNSO5AEMVJF66Q9ASUAAJG',\n",
       "  'HTTPStatusCode': 200,\n",
       "  'HTTPHeaders': {'server': 'Server',\n",
       "   'date': 'Sat, 22 Mar 2025 12:52:25 GMT',\n",
       "   'content-type': 'application/x-amz-json-1.0',\n",
       "   'content-length': '633',\n",
       "   'connection': 'keep-alive',\n",
       "   'x-amzn-requestid': 'NI1RPUF8U5EN63S7AD7FF6LAPRVV4KQNSO5AEMVJF66Q9ASUAAJG',\n",
       "   'x-amz-crc32': '208156034'},\n",
       "  'RetryAttempts': 0}}"
      ]
     },
     "execution_count": 38,
     "metadata": {},
     "output_type": "execute_result"
    }
   ],
   "source": [
    "client.delete_table(TableName='employess')"
   ]
  }
 ],
 "metadata": {
  "kernelspec": {
   "display_name": "Python 3 (ipykernel)",
   "language": "python",
   "name": "python3"
  },
  "language_info": {
   "codemirror_mode": {
    "name": "ipython",
    "version": 3
   },
   "file_extension": ".py",
   "mimetype": "text/x-python",
   "name": "python",
   "nbconvert_exporter": "python",
   "pygments_lexer": "ipython3",
   "version": "3.10.12"
  }
 },
 "nbformat": 4,
 "nbformat_minor": 5
}
